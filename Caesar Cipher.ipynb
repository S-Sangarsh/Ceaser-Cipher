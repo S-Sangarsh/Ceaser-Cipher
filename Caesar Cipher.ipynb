{
 "cells": [
  {
   "cell_type": "code",
   "execution_count": 1,
   "metadata": {},
   "outputs": [
    {
     "name": "stdout",
     "output_type": "stream",
     "text": [
      "Enter text to be encrypted: this is a encrypted message\n",
      "Enter Key Value: 1\n",
      "Original Text: this is a encrypted message\n",
      "After Encryption: uijt jt b fodszqufe nfttbhf\n",
      "After Decryption: this is a encrypted message\n"
     ]
    }
   ],
   "source": [
    "import string\n",
    "def encrypt(message,key):\n",
    "    str1='abcdefghijklmnopqrstuvwxyz'\n",
    "    en=''\n",
    "    for i in message:\n",
    "        if i==' ':\n",
    "            en=en+i\n",
    "        elif i.isupper():\n",
    "            j=i.lower()\n",
    "            position=str1.find(j)\n",
    "            newposition=(position+key)%26\n",
    "            k=str1[newposition]\n",
    "            en=en+k.upper()\n",
    "        elif i in string.punctuation:\n",
    "            en=en+i\n",
    "        elif i.isdigit():\n",
    "            j=int(i)+key\n",
    "            en=en+str(j)\n",
    "        else:\n",
    "            position=str1.find(i)\n",
    "            newposition=(position+key)%26\n",
    "            en=en+str1[newposition]\n",
    "    return en\n",
    "\n",
    "def decrypt(message,key):\n",
    "    str1='abcdefghijklmnopqrstuvwxyz'\n",
    "    de=''\n",
    "    for i in message:\n",
    "        if i==' ':\n",
    "            de=de+i\n",
    "        elif i.isupper():\n",
    "            j=i.lower()\n",
    "            position=str1.find(j)\n",
    "            newposition=(position-key)%26\n",
    "            k=str1[newposition]\n",
    "            de=de+k.upper()\n",
    "        elif i in string.punctuation:\n",
    "            de=de+i\n",
    "        elif i.isdigit():\n",
    "            j=int(i)-key\n",
    "            de=de+str(j)\n",
    "        else:\n",
    "            position=str1.find(i)\n",
    "            newposition=(position-key)%26\n",
    "            de=de+str1[newposition]\n",
    "    return de\n",
    "\n",
    "\n",
    "str1=input('Enter text to be encrypted: ')\n",
    "count=0\n",
    "while(count<=0):\n",
    "    key=int(input('Enter Key Value: '))\n",
    "    if key%26==0:\n",
    "        print('Please input a key which is not multiply of 26')\n",
    "        count=0\n",
    "    else:\n",
    "        encrypted_str=(encrypt(str1,key))\n",
    "        print('Original Text: {}'.format(str1))\n",
    "        print('After Encryption: {}'.format(encrypt(str1,key)))\n",
    "        print('After Decryption: {}'.format(decrypt(encrypted_str,key)))\n",
    "        count=1"
   ]
  },
  {
   "cell_type": "code",
   "execution_count": null,
   "metadata": {},
   "outputs": [],
   "source": []
  }
 ],
 "metadata": {
  "kernelspec": {
   "display_name": "Python 3",
   "language": "python",
   "name": "python3"
  },
  "language_info": {
   "codemirror_mode": {
    "name": "ipython",
    "version": 3
   },
   "file_extension": ".py",
   "mimetype": "text/x-python",
   "name": "python",
   "nbconvert_exporter": "python",
   "pygments_lexer": "ipython3",
   "version": "3.8.5"
  }
 },
 "nbformat": 4,
 "nbformat_minor": 4
}
